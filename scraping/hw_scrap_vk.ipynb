{
 "cells": [
  {
   "cell_type": "code",
   "execution_count": 147,
   "metadata": {
    "colab": {
     "base_uri": "https://localhost:8080/"
    },
    "id": "Iuh2-xTvWnQh",
    "outputId": "279b7dea-da0a-42c2-9670-7f22ae3481c6"
   },
   "outputs": [],
   "source": [
    "#При необходимости устанавливаем \n",
    "#!pip install vk_api"
   ]
  },
  {
   "cell_type": "code",
   "execution_count": 131,
   "metadata": {},
   "outputs": [],
   "source": [
    "import vk_api\n",
    "import csv"
   ]
  },
  {
   "cell_type": "code",
   "execution_count": 133,
   "metadata": {
    "id": "ZtY4cee6r1ck"
   },
   "outputs": [],
   "source": [
    "def scrape_wall_data(token, owner_id, count=10):\n",
    "    \"\"\"\n",
    "    Функция принимает на вход три аргумента: \n",
    "    1. token - токен для подключения к ВК по API;\n",
    "    2. owner_id - ID страницы, с которой берутся данные;\n",
    "    3. count - объем итоговой выборки.\n",
    "    \n",
    "    Функция возвращает ID поста, ссылку на изображение, прикрепленное к посту, и количество лайков на посте.\n",
    "    \n",
    "    \"\"\"\n",
    "    \n",
    "    try:\n",
    "        # Подключаемся к VK через API\n",
    "        vk_session = vk_api.VkApi(token=token)\n",
    "        vk = vk_session.get_api()\n",
    "\n",
    "        # Создаем хранилище для данных\n",
    "        scraped_data = []\n",
    "\n",
    "        # Достаем посты со страницы с помощью метода wall.get\n",
    "        posts = vk.wall.get(owner_id=owner_id, count=count)['items']\n",
    "        \n",
    "        ## Собираем необходимую информацию, парсинг\n",
    "        # Достаем ссылку на изображение\n",
    "        for post in posts: \n",
    "            if 'attachments' in post:\n",
    "                for attachment in post['attachments']:\n",
    "                    if attachment['type'] == 'photo':\n",
    "                        photo_sizes = attachment['photo']['sizes']\n",
    "                        # Получаем самую большую версию фото\n",
    "                        largest_photo = max(photo_sizes, key=lambda x: x['width'] * x['height'])\n",
    "                        photo_url = largest_photo['url']\n",
    "\n",
    "        # Собираем все данные в одно место\n",
    "        for post in posts:\n",
    "            post_data = {\n",
    "                'post_id': post['id'], \n",
    "                'post_photo_link': photo_url,\n",
    "                'post_likes': post['likes']['count']\n",
    "            }\n",
    "            scraped_data.append(post_data)\n",
    "\n",
    "        return scraped_data\n",
    "\n",
    "    except vk_api.exceptions.ApiError as e:\n",
    "        print(f\"Error accessing VK API: {e}\")\n",
    "        return []"
   ]
  },
  {
   "cell_type": "code",
   "execution_count": 149,
   "metadata": {},
   "outputs": [],
   "source": [
    "# Функция для сохранения *.csv\n",
    "def save_to_csv(data, file_name='vk_wall_posts_hype.csv'):\n",
    "    with open(file_name, mode='w', newline='', encoding='utf-8') as file:\n",
    "        writer = csv.DictWriter(file, fieldnames=['post_id', 'post_photo_link', 'post_likes'])\n",
    "        writer.writeheader()\n",
    "        for row in data:\n",
    "            writer.writerow(row)"
   ]
  },
  {
   "cell_type": "code",
   "execution_count": 153,
   "metadata": {},
   "outputs": [],
   "source": [
    "# Функция для выполнения задачи\n",
    "def main():\n",
    "    # Токен VK API\n",
    "    token = \"vk1.a.pDR6c5BFvhxrUTNwgl630lGtko_5ch5pozVv2bj0p8b5bLBpcGyBlPpiVNM3YTbVzas_47xwoh3VSXg6EGR-O5aki2WwgOviq85-4XweSgzXkfXKqwQeho8p6PKTBlY8_Gsx5EDYjNPswmL-nfV24_rydTRCV3G1bEeyNG6fXqcQ33xgMef4sktyUWsPXi3UbpVVprnPj9A-iHDj0OVkcw\"\n",
    "\n",
    "    # ID сообщества\n",
    "    owner_id = -187853043\n",
    "\n",
    "    # Количество публикаций для скрейпинга\n",
    "    num_posts = 100\n",
    "\n",
    "    # Запуск функции для скрейпинга\n",
    "    wall_data = scrape_wall_data(token, owner_id, num_posts)\n",
    "\n",
    "    save_to_csv(wall_data)\n",
    "\n",
    "if __name__ == \"__main__\":\n",
    "    main()"
   ]
  }
 ],
 "metadata": {
  "colab": {
   "provenance": []
  },
  "kernelspec": {
   "display_name": "Python 3 (ipykernel)",
   "language": "python",
   "name": "python3"
  },
  "language_info": {
   "codemirror_mode": {
    "name": "ipython",
    "version": 3
   },
   "file_extension": ".py",
   "mimetype": "text/x-python",
   "name": "python",
   "nbconvert_exporter": "python",
   "pygments_lexer": "ipython3",
   "version": "3.12.7"
  }
 },
 "nbformat": 4,
 "nbformat_minor": 4
}
